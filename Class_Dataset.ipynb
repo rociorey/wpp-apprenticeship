{
 "cells": [
  {
   "cell_type": "code",
   "execution_count": 7,
   "id": "db5c51b9",
   "metadata": {},
   "outputs": [],
   "source": [
    "import pandas as pd\n",
    "%matplotlib inline"
   ]
  },
  {
   "cell_type": "code",
   "execution_count": 8,
   "id": "e7c8bcaa",
   "metadata": {},
   "outputs": [],
   "source": [
    "path = 'WPP_Form.csv'"
   ]
  },
  {
   "cell_type": "code",
   "execution_count": 9,
   "id": "80edb2d4",
   "metadata": {},
   "outputs": [],
   "source": [
    "classData = pd.read_csv(path)"
   ]
  },
  {
   "cell_type": "code",
   "execution_count": 10,
   "id": "5ebc5e94",
   "metadata": {},
   "outputs": [
    {
     "data": {
      "text/html": [
       "<div>\n",
       "<style scoped>\n",
       "    .dataframe tbody tr th:only-of-type {\n",
       "        vertical-align: middle;\n",
       "    }\n",
       "\n",
       "    .dataframe tbody tr th {\n",
       "        vertical-align: top;\n",
       "    }\n",
       "\n",
       "    .dataframe thead th {\n",
       "        text-align: right;\n",
       "    }\n",
       "</style>\n",
       "<table border=\"1\" class=\"dataframe\">\n",
       "  <thead>\n",
       "    <tr style=\"text-align: right;\">\n",
       "      <th></th>\n",
       "      <th>Timestamp</th>\n",
       "      <th>name</th>\n",
       "      <th>sense</th>\n",
       "      <th>object</th>\n",
       "      <th>material</th>\n",
       "      <th>spending time</th>\n",
       "      <th>happiest place</th>\n",
       "      <th>value</th>\n",
       "    </tr>\n",
       "  </thead>\n",
       "  <tbody>\n",
       "    <tr>\n",
       "      <th>0</th>\n",
       "      <td>2022/11/16 12:03:51 pm GMT</td>\n",
       "      <td>Jiaze Li</td>\n",
       "      <td>Sight</td>\n",
       "      <td>MONEY?</td>\n",
       "      <td>Metal</td>\n",
       "      <td>with people</td>\n",
       "      <td>Canary wharf</td>\n",
       "      <td>work hard play hard</td>\n",
       "    </tr>\n",
       "    <tr>\n",
       "      <th>1</th>\n",
       "      <td>2022/11/16 12:38:55 pm GMT</td>\n",
       "      <td>Kat</td>\n",
       "      <td>Sight</td>\n",
       "      <td>Bed</td>\n",
       "      <td>Wood</td>\n",
       "      <td>with people</td>\n",
       "      <td>At home</td>\n",
       "      <td>Creativity</td>\n",
       "    </tr>\n",
       "    <tr>\n",
       "      <th>2</th>\n",
       "      <td>2022/11/16 1:18:12 pm GMT</td>\n",
       "      <td>Tilly</td>\n",
       "      <td>Hearing</td>\n",
       "      <td>Magic 8 ball</td>\n",
       "      <td>Wood</td>\n",
       "      <td>with people</td>\n",
       "      <td>At home</td>\n",
       "      <td>Kindness</td>\n",
       "    </tr>\n",
       "    <tr>\n",
       "      <th>3</th>\n",
       "      <td>2022/11/16 1:31:09 pm GMT</td>\n",
       "      <td>Shi Shi</td>\n",
       "      <td>Touch</td>\n",
       "      <td>Headphone</td>\n",
       "      <td>Glass</td>\n",
       "      <td>alone</td>\n",
       "      <td>Market</td>\n",
       "      <td>HAHA</td>\n",
       "    </tr>\n",
       "    <tr>\n",
       "      <th>4</th>\n",
       "      <td>2022/11/16 1:45:40 pm GMT</td>\n",
       "      <td>Jana</td>\n",
       "      <td>Hearing</td>\n",
       "      <td>Headphones</td>\n",
       "      <td>Wood</td>\n",
       "      <td>with people</td>\n",
       "      <td>In the park</td>\n",
       "      <td>Patience</td>\n",
       "    </tr>\n",
       "    <tr>\n",
       "      <th>5</th>\n",
       "      <td>2022/11/16 1:57:04 pm GMT</td>\n",
       "      <td>Ning</td>\n",
       "      <td>Sight</td>\n",
       "      <td>Switch</td>\n",
       "      <td>Plastic</td>\n",
       "      <td>with people</td>\n",
       "      <td>Chelsea</td>\n",
       "      <td>Positive</td>\n",
       "    </tr>\n",
       "    <tr>\n",
       "      <th>6</th>\n",
       "      <td>2022/11/16 2:02:43 pm GMT</td>\n",
       "      <td>Jade</td>\n",
       "      <td>Taste</td>\n",
       "      <td>Pillow</td>\n",
       "      <td>Metal</td>\n",
       "      <td>alone</td>\n",
       "      <td>Park</td>\n",
       "      <td>Loyalty</td>\n",
       "    </tr>\n",
       "    <tr>\n",
       "      <th>7</th>\n",
       "      <td>2022/11/16 2:16:05 pm GMT</td>\n",
       "      <td>Zishan liu</td>\n",
       "      <td>Sight</td>\n",
       "      <td>NaN</td>\n",
       "      <td>Glass</td>\n",
       "      <td>with people</td>\n",
       "      <td>oxford street</td>\n",
       "      <td>nice</td>\n",
       "    </tr>\n",
       "    <tr>\n",
       "      <th>8</th>\n",
       "      <td>2022/11/16 2:16:53 pm GMT</td>\n",
       "      <td>Dara</td>\n",
       "      <td>Sight</td>\n",
       "      <td>Sofa</td>\n",
       "      <td>Plastic</td>\n",
       "      <td>alone</td>\n",
       "      <td>Central London</td>\n",
       "      <td>Respect</td>\n",
       "    </tr>\n",
       "    <tr>\n",
       "      <th>9</th>\n",
       "      <td>2022/11/16 5:30:07 pm GMT</td>\n",
       "      <td>Wen</td>\n",
       "      <td>Sight</td>\n",
       "      <td>Teddy bear</td>\n",
       "      <td>Wood</td>\n",
       "      <td>with people</td>\n",
       "      <td>Barbican</td>\n",
       "      <td>Genuineness</td>\n",
       "    </tr>\n",
       "    <tr>\n",
       "      <th>10</th>\n",
       "      <td>2022/11/16 8:29:30 pm GMT</td>\n",
       "      <td>Adele</td>\n",
       "      <td>Sight</td>\n",
       "      <td>My glssses</td>\n",
       "      <td>Glass</td>\n",
       "      <td>with people</td>\n",
       "      <td>At home</td>\n",
       "      <td>Be kind to others</td>\n",
       "    </tr>\n",
       "    <tr>\n",
       "      <th>11</th>\n",
       "      <td>2022/11/17 1:55:53 pm GMT</td>\n",
       "      <td>Beth</td>\n",
       "      <td>Sight</td>\n",
       "      <td>Anatomical figure</td>\n",
       "      <td>Glass</td>\n",
       "      <td>with people</td>\n",
       "      <td>My flat</td>\n",
       "      <td>Sleep is for the weak</td>\n",
       "    </tr>\n",
       "  </tbody>\n",
       "</table>\n",
       "</div>"
      ],
      "text/plain": [
       "                     Timestamp        name    sense             object  \\\n",
       "0   2022/11/16 12:03:51 pm GMT    Jiaze Li    Sight             MONEY?   \n",
       "1   2022/11/16 12:38:55 pm GMT         Kat    Sight                Bed   \n",
       "2    2022/11/16 1:18:12 pm GMT       Tilly  Hearing       Magic 8 ball   \n",
       "3    2022/11/16 1:31:09 pm GMT     Shi Shi    Touch          Headphone   \n",
       "4    2022/11/16 1:45:40 pm GMT        Jana  Hearing         Headphones   \n",
       "5    2022/11/16 1:57:04 pm GMT        Ning    Sight             Switch   \n",
       "6    2022/11/16 2:02:43 pm GMT        Jade    Taste             Pillow   \n",
       "7    2022/11/16 2:16:05 pm GMT  Zishan liu    Sight                NaN   \n",
       "8    2022/11/16 2:16:53 pm GMT        Dara    Sight               Sofa   \n",
       "9    2022/11/16 5:30:07 pm GMT         Wen    Sight         Teddy bear   \n",
       "10   2022/11/16 8:29:30 pm GMT       Adele    Sight         My glssses   \n",
       "11   2022/11/17 1:55:53 pm GMT        Beth    Sight  Anatomical figure   \n",
       "\n",
       "   material spending time  happiest place                   value  \n",
       "0     Metal   with people    Canary wharf     work hard play hard  \n",
       "1      Wood   with people         At home              Creativity  \n",
       "2      Wood   with people         At home                Kindness  \n",
       "3     Glass         alone          Market                    HAHA  \n",
       "4      Wood   with people     In the park                Patience  \n",
       "5   Plastic   with people         Chelsea               Positive   \n",
       "6     Metal         alone            Park                 Loyalty  \n",
       "7     Glass   with people   oxford street                    nice  \n",
       "8   Plastic         alone  Central London                 Respect  \n",
       "9      Wood   with people        Barbican             Genuineness  \n",
       "10    Glass   with people         At home       Be kind to others  \n",
       "11    Glass   with people         My flat  Sleep is for the weak   "
      ]
     },
     "execution_count": 10,
     "metadata": {},
     "output_type": "execute_result"
    }
   ],
   "source": [
    "classData"
   ]
  },
  {
   "cell_type": "code",
   "execution_count": 11,
   "id": "8dab02f5",
   "metadata": {},
   "outputs": [],
   "source": [
    "names = classData['name']"
   ]
  },
  {
   "cell_type": "code",
   "execution_count": 12,
   "id": "483b94bb",
   "metadata": {},
   "outputs": [],
   "source": [
    "senses = classData['sense']"
   ]
  },
  {
   "cell_type": "code",
   "execution_count": 13,
   "id": "ee9c4a03",
   "metadata": {},
   "outputs": [],
   "source": [
    "objects = classData['object']"
   ]
  },
  {
   "cell_type": "code",
   "execution_count": 14,
   "id": "c41c1c23",
   "metadata": {},
   "outputs": [],
   "source": [
    "materials = classData['material']"
   ]
  },
  {
   "cell_type": "code",
   "execution_count": 95,
   "id": "988530b6",
   "metadata": {},
   "outputs": [],
   "source": [
    "socialisingStyle = classData['spending time']"
   ]
  },
  {
   "cell_type": "code",
   "execution_count": 18,
   "id": "37de57d4",
   "metadata": {},
   "outputs": [],
   "source": [
    "happiestPlaces = classData['happiest place']"
   ]
  },
  {
   "cell_type": "code",
   "execution_count": 19,
   "id": "db7c2958",
   "metadata": {},
   "outputs": [],
   "source": [
    "values = classData['value']"
   ]
  },
  {
   "cell_type": "code",
   "execution_count": 24,
   "id": "b948106d",
   "metadata": {},
   "outputs": [
    {
     "data": {
      "text/plain": [
       "array(['Sight', 'Hearing', 'Touch', 'Taste'], dtype=object)"
      ]
     },
     "execution_count": 24,
     "metadata": {},
     "output_type": "execute_result"
    }
   ],
   "source": [
    "classData.sense.unique()"
   ]
  },
  {
   "cell_type": "code",
   "execution_count": 14,
   "id": "1d1838d9",
   "metadata": {
    "scrolled": true
   },
   "outputs": [
    {
     "data": {
      "text/plain": [
       "['Sight',\n",
       " 'Sight',\n",
       " 'Hearing',\n",
       " 'Touch',\n",
       " 'Hearing',\n",
       " 'Sight',\n",
       " 'Taste',\n",
       " 'Sight',\n",
       " 'Sight',\n",
       " 'Sight',\n",
       " 'Sight',\n",
       " 'Sight']"
      ]
     },
     "execution_count": 14,
     "metadata": {},
     "output_type": "execute_result"
    }
   ],
   "source": [
    "senses.tolist()"
   ]
  },
  {
   "cell_type": "code",
   "execution_count": 47,
   "id": "9dfb70fd",
   "metadata": {},
   "outputs": [
    {
     "name": "stdout",
     "output_type": "stream",
     "text": [
      "{'Sight': 8, 'Hearing': 2, 'Touch': 1, 'Taste': 1}\n"
     ]
    }
   ],
   "source": [
    "senses_counter = {}\n",
    "\n",
    "for x in senses:\n",
    "    if x in senses_counter:\n",
    "        senses_counter[x] += 1\n",
    "    else:\n",
    "        senses_counter[x] = 1\n",
    "\n",
    "print(senses_counter)"
   ]
  },
  {
   "cell_type": "code",
   "execution_count": 41,
   "id": "8a874568",
   "metadata": {},
   "outputs": [
    {
     "data": {
      "text/plain": [
       "Text(0.5, 1.0, 'CTA sensorial preferences')"
      ]
     },
     "execution_count": 41,
     "metadata": {},
     "output_type": "execute_result"
    },
    {
     "data": {
      "image/png": "[encoded data removed]",
      "text/plain": [
       "<Figure size 640x480 with 1 Axes>"
      ]
     },
     "metadata": {},
     "output_type": "display_data"
    }
   ],
   "source": [
    "plt.hist(senses,bins=7)\n",
    "plt.xlabel('Senses')\n",
    "plt.ylabel('Amount')\n",
    "plt.title('CTA sensorial preferences')"
   ]
  },
  {
   "cell_type": "code",
   "execution_count": 40,
   "id": "93bf7f50",
   "metadata": {},
   "outputs": [
    {
     "data": {
      "text/plain": [
       "Text(0.5, 1.0, 'CTA materials preferences')"
      ]
     },
     "execution_count": 40,
     "metadata": {},
     "output_type": "execute_result"
    },
    {
     "data": {
      "image/png": "[encoded data removed]",
      "text/plain": [
       "<Figure size 640x480 with 1 Axes>"
      ]
     },
     "metadata": {},
     "output_type": "display_data"
    }
   ],
   "source": [
    "plt.hist(materials,bins=7)\n",
    "plt.xlabel('Materials')\n",
    "plt.ylabel('Amount')\n",
    "plt.title('CTA materials preferences')"
   ]
  },
  {
   "cell_type": "code",
   "execution_count": 96,
   "id": "815f47ad",
   "metadata": {},
   "outputs": [
    {
     "data": {
      "text/plain": [
       "Text(0.5, 1.0, 'CTA socialising preferences')"
      ]
     },
     "execution_count": 96,
     "metadata": {},
     "output_type": "execute_result"
    },
    {
     "data": {
      "image/png": "[encoded data removed]",
      "text/plain": [
       "<Figure size 640x480 with 1 Axes>"
      ]
     },
     "metadata": {},
     "output_type": "display_data"
    }
   ],
   "source": [
    "plt.hist(socialisingStyle,bins=4)\n",
    "plt.xlabel('Socialising style')\n",
    "plt.ylabel('Amount')\n",
    "plt.title('CTA socialising preferences')"
   ]
  },
  {
   "cell_type": "code",
   "execution_count": 79,
   "id": "bb4a4e91",
   "metadata": {},
   "outputs": [],
   "source": [
    "CTA_values = [x.lower().strip() for x in values]"
   ]
  },
  {
   "cell_type": "code",
   "execution_count": 98,
   "id": "3aaab88d",
   "metadata": {},
   "outputs": [
    {
     "name": "stdout",
     "output_type": "stream",
     "text": [
      "Us CTA value work hard play hard, creativity, kindness, haha, patience, positive, loyalty, nice, respect, genuineness, be kind to others, sleep is for the weak\n"
     ]
    }
   ],
   "source": [
    "print('Us CTA value '+ ', '.join(CTA_values))"
   ]
  },
  {
   "cell_type": "code",
   "execution_count": 101,
   "id": "e86d5cd4",
   "metadata": {
    "scrolled": true
   },
   "outputs": [
    {
     "name": "stdout",
     "output_type": "stream",
     "text": [
      "and we want to do it with people.\n"
     ]
    }
   ],
   "source": [
    "print(f'and we want to do it {socialisingStyle.max()}.')"
   ]
  },
  {
   "cell_type": "code",
   "execution_count": 45,
   "id": "fa18aa08",
   "metadata": {},
   "outputs": [
    {
     "name": "stdout",
     "output_type": "stream",
     "text": [
      "{'Sight': 8, 'Hearing': 2, 'Touch': 1, 'Taste': 1}\n"
     ]
    }
   ],
   "source": [
    "print(f')"
   ]
  },
  {
   "cell_type": "code",
   "execution_count": null,
   "id": "8bdd87e8",
   "metadata": {},
   "outputs": [],
   "source": []
  }
 ],
 "metadata": {
  "kernelspec": {
   "display_name": "Python 3 (ipykernel)",
   "language": "python",
   "name": "python3"
  },
  "language_info": {
   "codemirror_mode": {
    "name": "ipython",
    "version": 3
   },
   "file_extension": ".py",
   "mimetype": "text/x-python",
   "name": "python",
   "nbconvert_exporter": "python",
   "pygments_lexer": "ipython3",
   "version": "3.11.0"
  }
 },
 "nbformat": 4,
 "nbformat_minor": 5
}
